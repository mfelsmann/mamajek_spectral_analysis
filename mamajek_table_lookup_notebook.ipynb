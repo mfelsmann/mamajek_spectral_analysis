{
 "cells": [
  {
   "cell_type": "code",
   "execution_count": 5,
   "id": "c768a3a3-18f5-4383-b534-9ea34c07d125",
   "metadata": {},
   "outputs": [],
   "source": [
    "# IMPORT STATEMENTS\n",
    "from mamajek_table_lookup import mamajek_table_lookup\n",
    "from mamajek_table_lookupfile import mamajek_table_lookupfile"
   ]
  },
  {
   "cell_type": "markdown",
   "id": "17ac6e83-1226-4951-96ad-5f82d2221ace",
   "metadata": {},
   "source": [
    "This notebook is intended to document and explain the usage of the two full-feature scripts, ``mamajek_table_lookup.py`` and ``mamajek_table_lookupfile.py``. These scripts synthesize the position, magnitude, temperature, and spectral type scripts to produce a broader profile of the target system. Both scripts produce the following information about a system:\n",
    "\n",
    "- Target ID\n",
    "- Separation and uncertainty\n",
    "- Position angle and uncertainty (º East of North)\n",
    "- Filter name\n",
    "- Primary-companion magnitude difference and uncertainty\n",
    "- Estimated primary spectral type and companion spectral type\n",
    "\n",
    "``mamajek_table_lookup.py`` is intended for use on a single set of parameters about one system. ``mamajek_table_lookupfile.py`` is intended for use on a file containing many lines about multiple systems. Both scripts work in notebook and command line interfaces.\n",
    "\n",
    "---"
   ]
  },
  {
   "cell_type": "markdown",
   "id": "069404ba-9867-4b61-8ff2-af39131a9ff0",
   "metadata": {},
   "source": [
    "**OVERVIEW OF PARAMETERS**\n",
    "\n",
    "Both scripts accept 12 required parameters and 2 optional parameters.\n",
    "1. Target ID (TOI or TIC)\n",
    "2. Instrument pixel scale (i.e., 0.025 arcseconds/pixel at the Palomar Hale Telescope)\n",
    "3. Primary centroid X coordinate\n",
    "4. Primary centroid Y coordinate\n",
    "5. Companion centroid X coordinate\n",
    "6. Companion centroid Y coordinate\n",
    "7. Filter used to obtain imaging results\n",
    "8. Primary magnitude\n",
    "9. Primary magnitude uncertainty\n",
    "10. Companion magnitude\n",
    "11. Companion magnitude uncertainty\n",
    "12. x-flip (used to calculate the position angle in º East of North)\n",
    "    - If imaging results use a right-handed coordinate system, use \"xflip\"\n",
    "    - If imaging results use a left-handed coordinate system, use \"noxflip\"\n",
    "13. OPTIONAL: ExoFOP database download\n",
    "14. OPTIONAL: Mamajek table download\n",
    "\n",
    "---"
   ]
  },
  {
   "cell_type": "markdown",
   "id": "910c8c23-f822-49a2-b3b7-25a6b37b0dc2",
   "metadata": {},
   "source": [
    "**COMBINED - SINGLE SET**\n",
    "\n",
    "To run the \"combined\" function on a single set of parameters, call `mamajek_table_lookup` on the 12 required and 2 optional parameters.\n",
    "\n",
    "**Command Line**\n",
    "\n",
    "For CLI use, omit the commas between parameters and flag the download parameters with a double dash, if using them. The quotes around the filter, xflip, and download parameters are optional. \n",
    "\n",
    "    python mamajek_table_lookup.py 1234 0.025 100 100 250 400 K 12 0.005 17 0.08 noxflip --dl_exo=\"yes\" --dl_mamajek=\"no\"\n",
    "    python mamajek_table_lookup.py 1234 0.025 100 100 250 400 K 12 0.005 17 0.08 xflip --dl_exo=yes --dl_mamajek=no\n",
    "    python mamajek_table_lookup.py 1234 0.025 100 100 250 400 Hcont 12 0.005 17 0.08 noxflip --dl_exo=no --dl_mamajek=no\n",
    "    python mamajek_table_lookup.py 1234 0.025 100 100 250 400 Brgamma 12 0.005 17 0.08 xflip\n",
    "    python mamajek_table_lookup.py 1234 0.025 100 100 250 400 Kcont 12 0.005 17 0.08 noxflip --dl_mamajek=\"\"\n",
    "\n",
    "**Notebook**\n",
    "\n",
    "In the notebook, include commas between parameters and put the filter, xflip, and download parameters in quotes. Download parameters may be entered with or without the parameter label: ``\"yes\"`` vs ``dl_exo=\"yes\"``. If the user omits the dl_exo parameter entirely but includes a (positive) dl_mamajek parameter, the dl_mamajek parameter **must** be entered with its label:\n",
    "\n",
    "**Correct:** ``mamajek_table_lookup(1234, 0.025, 100, 100, 250, 400, \"K\", 12, 0.005, 17, 0.08, \"xflip\", dl_mamajek=\"yes\")``\n",
    "\n",
    "**Incorrect:** ``mamajek_table_lookup(1234, 0.025, 100, 100, 250, 400, \"K\", 12, 0.005, 17, 0.08, \"xflip\", \"yes\")``\n",
    "\n",
    "In the second case, the program would interpret the \"yes\" as corresponding to the dl_exo parameter. This doesn't matter if using a \"no\" flag, as a \"no\" flag is the same as an omitted parameter.\n",
    "\n",
    "    mamajek_table_lookup(1234, 0.025, 100, 100, 250, 400, \"Kcont\", 12, 0.005, 17, 0.08, \"xflip\", \"yes\", \"no\")\n",
    "    mamajek_table_lookup(1234, 0.025, 100, 100, 250, 400, \"H\", 12, 0.005, 17, 0.08, \"noxflip\", dl_mamajek=\"yes\")\n",
    "    mamajek_table_lookup(1234, 0.025, 100, 100, 250, 400, \"Brgamma\", 12, 0.005, 17, 0.08, \"noxflip\")\n",
    "\n"
   ]
  },
  {
   "cell_type": "code",
   "execution_count": 6,
   "id": "a788a994-e19a-492e-8616-967ed8abf9c3",
   "metadata": {},
   "outputs": [
    {
     "data": {
      "text/plain": [
       "{'target': 1234,\n",
       " 'separation': 8.385,\n",
       " 'separation_uncertainty': 0.059,\n",
       " 'position_angle': 333.435,\n",
       " 'pa_uncertainty': 0.025,\n",
       " 'filter_name': 'Brgamma',\n",
       " 'delta_magnitude': 5,\n",
       " 'd_mag_uncertainty': 0.08,\n",
       " 'primary_spt': 'M3V',\n",
       " 'companion_spt': 'L4V'}"
      ]
     },
     "execution_count": 6,
     "metadata": {},
     "output_type": "execute_result"
    }
   ],
   "source": [
    "# Notebook example\n",
    "mamajek_table_lookup(1234, 0.025, 100, 100, 250, 400, \"Brgamma\", 12, 0.005, 17, 0.08, \"noxflip\")"
   ]
  },
  {
   "cell_type": "code",
   "execution_count": null,
   "id": "0b3d1276-dcb3-465a-a48e-834570c197aa",
   "metadata": {},
   "outputs": [],
   "source": []
  }
 ],
 "metadata": {
  "kernelspec": {
   "display_name": "Python 3 (ipykernel)",
   "language": "python",
   "name": "python3"
  },
  "language_info": {
   "codemirror_mode": {
    "name": "ipython",
    "version": 3
   },
   "file_extension": ".py",
   "mimetype": "text/x-python",
   "name": "python",
   "nbconvert_exporter": "python",
   "pygments_lexer": "ipython3",
   "version": "3.12.4"
  },
  "widgets": {
   "application/vnd.jupyter.widget-state+json": {
    "state": {},
    "version_major": 2,
    "version_minor": 0
   }
  }
 },
 "nbformat": 4,
 "nbformat_minor": 5
}
