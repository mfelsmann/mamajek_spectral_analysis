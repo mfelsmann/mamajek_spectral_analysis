{
 "cells": [
  {
   "cell_type": "code",
   "execution_count": 1,
   "id": "d7d5c284-26da-4e03-b23d-a28ab4ce9927",
   "metadata": {},
   "outputs": [],
   "source": [
    "# from position import position\n",
    "# from magnitude import magnitude\n",
    "# from teff import get_teff\n",
    "# from teff_file import teff_file\n",
    "# from spectral import spectral_type\n",
    "# from spectral_file import spectral_file\n",
    "from combined_single import get_all\n",
    "from combined_file import all_file"
   ]
  },
  {
   "cell_type": "code",
   "execution_count": 8,
   "id": "1861b923-bb11-486c-a052-4354d74230a7",
   "metadata": {},
   "outputs": [],
   "source": [
    "all_file(\"combined_test.txt\", \"combined_test_outputX7.txt\")"
   ]
  },
  {
   "cell_type": "code",
   "execution_count": 2,
   "id": "71dbb921-eaf5-4a95-a88b-28a9b6e71eb0",
   "metadata": {},
   "outputs": [
    {
     "data": {
      "text/plain": [
       "\"ERROR: attempted to reference unsupported magnitude 'X' - could not run analysis\""
      ]
     },
     "execution_count": 2,
     "metadata": {},
     "output_type": "execute_result"
    }
   ],
   "source": [
    "spectral_type(5943, 140.6, \"X\", 4.192, 0.003)"
   ]
  },
  {
   "cell_type": "code",
   "execution_count": 2,
   "id": "7f202820-7f5e-4fc1-8f88-ed188eda0cff",
   "metadata": {},
   "outputs": [
    {
     "ename": "ValueError",
     "evalue": "Attempted to reference unsupported magnitude 'X' - could not run analysis",
     "output_type": "error",
     "traceback": [
      "\u001b[0;31m---------------------------------------------------------------------------\u001b[0m",
      "\u001b[0;31mValueError\u001b[0m                                Traceback (most recent call last)",
      "Cell \u001b[0;32mIn[2], line 1\u001b[0m\n\u001b[0;32m----> 1\u001b[0m spectral_type(\u001b[38;5;241m5943\u001b[39m, \u001b[38;5;241m140.6\u001b[39m, \u001b[38;5;124m\"\u001b[39m\u001b[38;5;124mX\u001b[39m\u001b[38;5;124m\"\u001b[39m, \u001b[38;5;241m4.192\u001b[39m, \u001b[38;5;241m0.003\u001b[39m)\n",
      "File \u001b[0;32m~/Desktop/Westridge/12th/research/FINAL/PUBLIC RELEASE/spectral.py:32\u001b[0m, in \u001b[0;36mspectral_type\u001b[0;34m(teff, teff_unc, filter, d_mag, dm_unc, mamajek_df, path)\u001b[0m\n\u001b[1;32m     28\u001b[0m     filter_output \u001b[38;5;241m=\u001b[39m \u001b[38;5;124mf\u001b[39m\u001b[38;5;124m\"\u001b[39m\u001b[38;5;124mM_\u001b[39m\u001b[38;5;132;01m{\u001b[39;00m\u001b[38;5;28mfilter\u001b[39m\u001b[38;5;132;01m}\u001b[39;00m\u001b[38;5;124m\"\u001b[39m\n\u001b[1;32m     30\u001b[0m \u001b[38;5;28;01mif\u001b[39;00m filter_output \u001b[38;5;129;01mnot\u001b[39;00m \u001b[38;5;129;01min\u001b[39;00m mamajek_df\u001b[38;5;241m.\u001b[39mcolumns:\n\u001b[1;32m     31\u001b[0m     \u001b[38;5;66;03m# return f\"ERROR: attempted to reference unsupported magnitude '{filter}' - could not run analysis\"\u001b[39;00m\n\u001b[0;32m---> 32\u001b[0m     \u001b[38;5;28;01mraise\u001b[39;00m \u001b[38;5;167;01mValueError\u001b[39;00m(\u001b[38;5;124mf\u001b[39m\u001b[38;5;124m\"\u001b[39m\u001b[38;5;124mAttempted to reference unsupported magnitude \u001b[39m\u001b[38;5;124m'\u001b[39m\u001b[38;5;132;01m{\u001b[39;00m\u001b[38;5;28mfilter\u001b[39m\u001b[38;5;132;01m}\u001b[39;00m\u001b[38;5;124m'\u001b[39m\u001b[38;5;124m - could not run analysis\u001b[39m\u001b[38;5;124m\"\u001b[39m)\n\u001b[1;32m     35\u001b[0m primary_spt \u001b[38;5;241m=\u001b[39m mamajek_df\u001b[38;5;241m.\u001b[39mloc[teff_index, \u001b[38;5;124m'\u001b[39m\u001b[38;5;124mSpT\u001b[39m\u001b[38;5;124m'\u001b[39m]\n\u001b[1;32m     36\u001b[0m primary_spt_lower \u001b[38;5;241m=\u001b[39m mamajek_df\u001b[38;5;241m.\u001b[39mloc[lower_teff_index, \u001b[38;5;124m'\u001b[39m\u001b[38;5;124mSpT\u001b[39m\u001b[38;5;124m'\u001b[39m]\n",
      "\u001b[0;31mValueError\u001b[0m: Attempted to reference unsupported magnitude 'X' - could not run analysis"
     ]
    }
   ],
   "source": [
    "spectral_type(5943, 140.6, \"X\", 4.192, 0.003)"
   ]
  },
  {
   "cell_type": "code",
   "execution_count": 4,
   "id": "ca052ecf-3327-4019-a9f7-6e721b3f380a",
   "metadata": {},
   "outputs": [
    {
     "data": {
      "text/plain": [
       "'ERROR: Please ensure your date is in YYYY-MM-DD format, using hyphens and leading zeroes if necessary—i.e., March is 03'"
      ]
     },
     "execution_count": 4,
     "metadata": {},
     "output_type": "execute_result"
    }
   ],
   "source": [
    "get_all(7011, 0.0254, 502, 505, 723, 688, \"K\", 14.072, 0.00328125, 20.117, 0.16519, \"2025-6-16\", 1234567)"
   ]
  },
  {
   "cell_type": "code",
   "execution_count": 5,
   "id": "71b41236-eb87-42ea-bb38-fbdc26f0c837",
   "metadata": {},
   "outputs": [
    {
     "data": {
      "text/plain": [
       "{'target': 7013,\n",
       " 'separation': 10.997,\n",
       " 'separation_uncertainty': 0.079,\n",
       " 'position_angle': 152.636,\n",
       " 'pa_uncertainty': 0.019,\n",
       " 'filter_name': 'Hcont',\n",
       " 'delta_magnitude': 1.245,\n",
       " 'd_mag_uncertainty': 0.004,\n",
       " 'primary_spt': 'G9V',\n",
       " 'companion_spt': 'K7V',\n",
       " 'teff': 5358.0,\n",
       " 'teff_uncertainty': 128.1,\n",
       " 'obsdate': '2024-08-21',\n",
       " 'tag': None}"
      ]
     },
     "execution_count": 5,
     "metadata": {},
     "output_type": "execute_result"
    }
   ],
   "source": [
    "get_all(7013,0.0254,662.2,662.4,861.2,277.9,\"Hcont\",11.2214,0.00199933,12.4666,0.00360553,\"2024-08-21\")"
   ]
  },
  {
   "cell_type": "code",
   "execution_count": 4,
   "id": "4ab79158-f48a-4275-8f00-3a144989ea20",
   "metadata": {},
   "outputs": [
    {
     "data": {
      "text/plain": [
       "{'target': 7013,\n",
       " 'separation': 10.991,\n",
       " 'separation_uncertainty': 0.079,\n",
       " 'position_angle': 152.665,\n",
       " 'pa_uncertainty': 0.019,\n",
       " 'filter_name': 'Kcont',\n",
       " 'delta_magnitude': 1.273,\n",
       " 'd_mag_uncertainty': 0.007,\n",
       " 'primary_spt': 'G9V',\n",
       " 'companion_spt': 'K8V',\n",
       " 'teff': 5358.0,\n",
       " 'teff_uncertainty': 128.1,\n",
       " 'obsdate': '2024-08-21',\n",
       " 'tag': None}"
      ]
     },
     "execution_count": 4,
     "metadata": {},
     "output_type": "execute_result"
    }
   ],
   "source": [
    "get_all(7013,0.0254,661.2,661.3,859.9,276.9,\"Kcont\",12.1273,0.00303263,13.3998,0.00578492,\"2024-08-21\")"
   ]
  },
  {
   "cell_type": "code",
   "execution_count": null,
   "id": "6e98d1c0-9325-4094-b598-f276b7ee4dfc",
   "metadata": {},
   "outputs": [],
   "source": []
  }
 ],
 "metadata": {
  "kernelspec": {
   "display_name": "Python 3 (ipykernel)",
   "language": "python",
   "name": "python3"
  },
  "language_info": {
   "codemirror_mode": {
    "name": "ipython",
    "version": 3
   },
   "file_extension": ".py",
   "mimetype": "text/x-python",
   "name": "python",
   "nbconvert_exporter": "python",
   "pygments_lexer": "ipython3",
   "version": "3.12.4"
  },
  "widgets": {
   "application/vnd.jupyter.widget-state+json": {
    "state": {},
    "version_major": 2,
    "version_minor": 0
   }
  }
 },
 "nbformat": 4,
 "nbformat_minor": 5
}
