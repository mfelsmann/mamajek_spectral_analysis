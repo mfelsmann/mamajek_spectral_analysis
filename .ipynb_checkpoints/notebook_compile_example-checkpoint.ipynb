{
 "cells": [
  {
   "cell_type": "markdown",
   "id": "d51e0e09-daae-4ed2-bd0d-8e74612310cf",
   "metadata": {},
   "source": [
    "This notebook is intended to provide an overview of the Mamajek Stellar Analysis Automation Tool. Below you will find descriptions, documentation, and examples of all capabilities of the program. The primary purpose of this program is to estimate spectral type using temperature and magnitude data, with Eric Mamajek's \"Stellar Color and Effective Temperature Sequence\" table acting as reference.\n",
    "\n",
    "The program can be run on one system at a time, using manual input (hereafter \"single set\"), or on a file containing a list of inputs (\"file set\").\n",
    "\n",
    "---\n",
    "\n",
    "The program is comprised of four individual data return modules, corresponding to four different categories of data—position, magnitude, temperature, and spectral type—and one combined module. \n",
    "\n",
    "The temperature, spectral type, and combined modules each have two scripts, one intended for use on single sets, the other for use on file sets.\n",
    "\n",
    "---\n",
    "\n",
    "Below are the necessary import statements."
   ]
  },
  {
   "cell_type": "code",
   "execution_count": 1,
   "id": "05851440-fd24-4c8c-af71-50d1489b414f",
   "metadata": {},
   "outputs": [],
   "source": [
    "from position import position\n",
    "from magnitude import magnitude\n",
    "from spectral import spectral_type\n",
    "from spectral_file import load_mamajek_from_file, spectral_type_file, spectral_file\n",
    "from teff import get_teff\n",
    "from teff_file import load_exo_df_from_file, get_teff_file, teff_file\n",
    "from combined_single import get_all, valid_date, parse_obs_date_and_data_tag\n",
    "from combined_file import all, all_file, valid_date_file"
   ]
  },
  {
   "cell_type": "markdown",
   "id": "5b00b53d-2689-4ec9-ac40-2e340a69b188",
   "metadata": {
    "jp-MarkdownHeadingCollapsed": true
   },
   "source": [
    "**POSITION**\n",
    "\n",
    "The `position` function takes the centroid positions of the primary and companion star, measured in pixels, and converts them to an angular separation and position angle. \n",
    "\n",
    "To use the `position` function, call the function with five input parameters in this order: pixel scale, primary x coordinate, primary y coordinate, companion x coordinate, companion y coordinate."
   ]
  },
  {
   "cell_type": "code",
   "execution_count": 2,
   "id": "5f6e81dc-a0bd-4e12-80fb-91b304b012e3",
   "metadata": {},
   "outputs": [
    {
     "data": {
      "text/plain": [
       "{'separation': 1.141,\n",
       " 'separation_uncertainty': 0.008,\n",
       " 'position_angle': 27.307,\n",
       " 'pa_uncertainty': 0.18}"
      ]
     },
     "execution_count": 2,
     "metadata": {},
     "output_type": "execute_result"
    }
   ],
   "source": [
    "position(0.0254, 657.6, 657.1, 678.2, 697)"
   ]
  },
  {
   "cell_type": "markdown",
   "id": "c5e52c9c-d6a7-4edb-be23-9c85512b36a8",
   "metadata": {},
   "source": [
    "**MAGNITUDE**\n",
    "\n",
    "The `magnitude` function takes the magnitude and magnitude uncertainty of the primary and companion star and produces a magnitude difference.\n",
    "\n",
    "To use the `magnitude` function, call the function with four input parameters in this order: primary magnitude, primary magnitude uncertainty, companion magnitude, companion magnitude uncertainty."
   ]
  },
  {
   "cell_type": "code",
   "execution_count": 3,
   "id": "381c4607-6260-45d6-92cd-1f1bba1300d6",
   "metadata": {},
   "outputs": [
    {
     "data": {
      "text/plain": [
       "{'d_mag': 4.12, 'dm_unc': 0.441}"
      ]
     },
     "execution_count": 3,
     "metadata": {},
     "output_type": "execute_result"
    }
   ],
   "source": [
    "magnitude(12.33, 0.028, 16.45, 0.44)"
   ]
  },
  {
   "cell_type": "markdown",
   "id": "486f6735-983f-45e6-b9fe-3e733287e278",
   "metadata": {},
   "source": [
    "**TEMPERATURE**\n",
    "\n",
    "The `teff` function uses the target ID to look up the temperature and temperature uncertainty of the primary star in the ExoFOP database.\n",
    "\n",
    "To use the `teff` function, simply call the function `get_teff` using the stellar object ID number (either TOI or TIC). If calling on a file set, use `teff_file` and ensure that the file only contains one target ID number per line. Refer to the input file example below:\n",
    "\n",
    "```7011```\n",
    "\n",
    "```35883```\n",
    "\n",
    "```1234```\n",
    "\n",
    "The output file will contain two fields separated by a vertical bar: temperature and temperatur uncertainty. Below are example lines from the output file:\n",
    "\n",
    "```5493.0|140.6```\n",
    "\n",
    "```ERROR on line 2: No matching target entry found in database```\n",
    "\n",
    "```3443.0|157.0```"
   ]
  },
  {
   "cell_type": "code",
   "execution_count": 4,
   "id": "6ec1dac9-5f9c-4c47-8dc4-9c44a93756a1",
   "metadata": {},
   "outputs": [
    {
     "data": {
      "text/plain": [
       "{'teff': 6688.0, 'unc': 137.9}"
      ]
     },
     "execution_count": 4,
     "metadata": {},
     "output_type": "execute_result"
    }
   ],
   "source": [
    "## Using TOI\n",
    "get_teff(3588)"
   ]
  },
  {
   "cell_type": "code",
   "execution_count": 5,
   "id": "7782fa27-ddb0-4dd7-92bb-900bff17d8eb",
   "metadata": {},
   "outputs": [
    {
     "data": {
      "text/plain": [
       "{'teff': 8552.3, 'unc': 193.7}"
      ]
     },
     "execution_count": 5,
     "metadata": {},
     "output_type": "execute_result"
    }
   ],
   "source": [
    "## Using TIC\n",
    "get_teff(128558444)"
   ]
  },
  {
   "cell_type": "code",
   "execution_count": 4,
   "id": "6a4a8267-4360-4e78-b728-b07635f7ae94",
   "metadata": {},
   "outputs": [],
   "source": [
    "teff_file(\"teff_tags.txt\", \"teff_output.txt\")"
   ]
  },
  {
   "cell_type": "markdown",
   "id": "614b5244-391c-4ecc-8146-18019fd8d96f",
   "metadata": {},
   "source": [
    "**SPECTRAL TYPE**\n",
    "\n",
    "The `spectral_type` function retrieves the spectral types and approximate magnitudes of the primary and companion star based on the primary temperature and the magnitude difference.\n",
    "\n",
    "To use the `spectral_type` function on a single set, call `spectral_type` with the following five input parameters: effective temperature, temperature uncertainty, \"filter name\", delta magnitude, delta magnitude uncertainty.\n",
    "\n",
    "To use the `spectral_type` function on a file set, call `spectral_file` with the same five parameters. For a file set, the five parameters should be comma-delimited **without** spaces and the filter should not be in quotes. Refer to the following example of lines in the input file:\n",
    "\n",
    "\n",
    "```6280,122,K,7.031,0.00722```\n",
    "\n",
    "```6688,137.9,X,4.438,0.022```\n",
    "\n",
    "The output will be bar-delimited and contain the following fields: primary spectral type, lower bound of the primary spectral type, upper bound of the primary spectral type, primary magnitude, lower bound of the primary magnitude, upper bound of the primary magnitude, companion spectral type, lower bound of the companion spectral type, upper bound of the companion spectral type, primary companion, lower bound of the companion magnitude, upper bound of the primary companion. Here are example lines from the output file:\n",
    "\n",
    "```F7V|F8V|F6V|2.579|2.76|2.5|M7V|M7.5V|M6.5V|9.7|9.81|9.5```\n",
    "\n",
    "```ERROR on line 2: Attempted to reference unsupported magnitude 'X' - could not run analysis```\n",
    "\n",
    "\n",
    "**Filters**\n",
    "\n",
    "Supported filters: G, J, K, H, V, Rp, W1, W2, W3, W4, U, Ic, Rc, Bp, B\n",
    "\n",
    "Attempting to run this function using an unsupported filter will return 'ERROR: attempted to reference unsupported magnitude - could not run analysis'.\n",
    "\n",
    "In the K-band, the function supports input of the following filter names: \"K\", \"Ks\", \"Kcont\", and \"Brgamma\". These will be referenced against the Ks column in the Mamajek table.\n",
    "In the H-band, the function supports input of the following filter names: \"H\" and \"Hcont\". These will be referenced against the H column in the Mamajek table.\n",
    "\n",
    "In the examples below, note that the companion spectral type is the same for \"K\" and \"Brgamma,\" but different for \"H.\" \n",
    "\n",
    "**Variable Input**\n",
    "\n",
    "Also note that the output of the `teff` and `magnitude` functions can be used as input parameters for the `spectral_type` function. Simply assign the output of either function to a variable and then use that variable in place of a temperature or magnitude value. **This will only work in the notebook interface.**"
   ]
  },
  {
   "cell_type": "code",
   "execution_count": 6,
   "id": "e691f5bf-953a-4279-a7b2-8d48e9c9729e",
   "metadata": {},
   "outputs": [],
   "source": [
    "## File set\n",
    "spectral_file(\"spectral_test.txt\", \"spectral_test_output.txt\")"
   ]
  },
  {
   "cell_type": "code",
   "execution_count": 3,
   "id": "87288c0d-60be-4ba8-b5e9-6607d347a715",
   "metadata": {},
   "outputs": [
    {
     "data": {
      "text/plain": [
       "'ERROR: attempted to reference unsupported magnitude - could not run analysis'"
      ]
     },
     "execution_count": 3,
     "metadata": {},
     "output_type": "execute_result"
    }
   ],
   "source": [
    "## Single set, using invalid filter\n",
    "spectral_type(6688, 137.9, \"X\", 4.12, 0.441)"
   ]
  },
  {
   "cell_type": "code",
   "execution_count": 8,
   "id": "07966abf-64f6-4898-9bd1-e019d636eb24",
   "metadata": {},
   "outputs": [
    {
     "data": {
      "text/plain": [
       "{'primary_spt': 'F7V',\n",
       " 'primary_spt_lower': 'F8V',\n",
       " 'primary_spt_upper': 'F6V',\n",
       " 'comp_spt': 'M7V',\n",
       " 'comp_spt_lower': 'M7.5V',\n",
       " 'comp_spt_upper': 'M6.5V',\n",
       " 'primary_mag': 2.579,\n",
       " 'primary_mag_lower': 2.76,\n",
       " 'primary_mag_upper': 2.5,\n",
       " 'comp_mag': 9.7,\n",
       " 'comp_mag_lower': 9.81,\n",
       " 'comp_mag_upper': 9.5}"
      ]
     },
     "execution_count": 8,
     "metadata": {},
     "output_type": "execute_result"
    }
   ],
   "source": [
    "## Single set, using valid K filter\n",
    "spectral_type(6280, 122, \"K\", 7.031, 0.00722)"
   ]
  },
  {
   "cell_type": "code",
   "execution_count": 9,
   "id": "b34dcbd8-1e7f-46bc-b171-57e93eaf1405",
   "metadata": {},
   "outputs": [
    {
     "data": {
      "text/plain": [
       "{'primary_spt': 'F7V',\n",
       " 'primary_spt_lower': 'F8V',\n",
       " 'primary_spt_upper': 'F6V',\n",
       " 'comp_spt': 'M7V',\n",
       " 'comp_spt_lower': 'M7.5V',\n",
       " 'comp_spt_upper': 'M6.5V',\n",
       " 'primary_mag': 2.579,\n",
       " 'primary_mag_lower': 2.76,\n",
       " 'primary_mag_upper': 2.5,\n",
       " 'comp_mag': 9.7,\n",
       " 'comp_mag_lower': 9.81,\n",
       " 'comp_mag_upper': 9.5}"
      ]
     },
     "execution_count": 9,
     "metadata": {},
     "output_type": "execute_result"
    }
   ],
   "source": [
    "## Single set, using valid Brgamma filter - note that output is identical to cell above\n",
    "spectral_type(6280, 122, \"Brgamma\", 7.031, 0.00722)"
   ]
  },
  {
   "cell_type": "code",
   "execution_count": 10,
   "id": "0ee0a97a-f166-45ef-8f80-15d266408b5c",
   "metadata": {},
   "outputs": [
    {
     "data": {
      "text/plain": [
       "{'primary_spt': 'F7V',\n",
       " 'primary_spt_lower': 'F8V',\n",
       " 'primary_spt_upper': 'F6V',\n",
       " 'comp_spt': 'M6V',\n",
       " 'comp_spt_lower': 'M6.5V',\n",
       " 'comp_spt_upper': 'M6V',\n",
       " 'primary_mag': 2.639,\n",
       " 'primary_mag_lower': 2.821,\n",
       " 'primary_mag_upper': 2.557,\n",
       " 'comp_mag': 9.572,\n",
       " 'comp_mag_lower': 9.86,\n",
       " 'comp_mag_upper': 9.572}"
      ]
     },
     "execution_count": 10,
     "metadata": {},
     "output_type": "execute_result"
    }
   ],
   "source": [
    "## Single set, using valid H filter - note that output differs from K-band output\n",
    "spectral_type(6280, 122, \"H\", 7.031, 0.00722)"
   ]
  },
  {
   "cell_type": "code",
   "execution_count": 11,
   "id": "949a93c4-5f4a-4f16-b0c2-4bd93b0d6966",
   "metadata": {},
   "outputs": [
    {
     "data": {
      "text/plain": [
       "{'primary_spt': 'F4V',\n",
       " 'primary_spt_lower': 'F5V',\n",
       " 'primary_spt_upper': 'F2V',\n",
       " 'comp_spt': 'M2.5V',\n",
       " 'comp_spt_lower': 'M2V',\n",
       " 'comp_spt_upper': 'M3V',\n",
       " 'primary_mag': 2.188,\n",
       " 'primary_mag_lower': 2.291,\n",
       " 'primary_mag_upper': 2.045,\n",
       " 'comp_mag': 6.18,\n",
       " 'comp_mag_lower': 5.98,\n",
       " 'comp_mag_upper': 6.55}"
      ]
     },
     "execution_count": 11,
     "metadata": {},
     "output_type": "execute_result"
    }
   ],
   "source": [
    "## Single set, using the output of magnitude and temperature functions as inputs for spectral_tye\n",
    "mag = magnitude(12.33, 0.028, 16.45, 0.44)\n",
    "temp = get_teff(3588)\n",
    "spectral_type(temp['teff'], temp['unc'], \"K\", mag['d_mag'], mag['dm_unc'])"
   ]
  },
  {
   "cell_type": "markdown",
   "id": "04f8dbd4-2dac-4454-bd37-398c76d64c06",
   "metadata": {},
   "source": [
    "**COMBINED - SINGLE SET**\n",
    "\n",
    "To run the `combined` function on a single set of parameters, call `get_all` with the following 13 parameters: ID number (TOI or TIC), pixel scale, primary x coordinate, primary y coordinate, companion x coordinate, companion y coordinate, \"filter name\", primary magnitude, primary magnitude uncertainty, companion magnitude, companion magnitude uncertainty, \"observation date\", data tag number. **The observation date should be in YYYY-MM-DD format.**\n",
    "\n",
    "Observation date and data tags are included because the output of this function is designed to follow the ExoFOP Stellar Companions Bulk Upload formatting guide, which has fields for observation date and data tag. The function does not manipulate observation data or data tag input in any way; it is simply returned as it was given. For this reason, **the observation date and data tag fields are optional.**\n",
    "\n",
    "If omitting both fields, simply close the function parameter parentheses immediately after the companion magnitude uncertainty.\n",
    "\n",
    "If including an observation date and omitting a data tag, close the parentheses after the observation date string.\n",
    "\n",
    "If omitting an observation date and including a data tag, either:\n",
    "1) Type 'None' in place of an observation date, or\n",
    "2) Enter the data tag immediately after the companion magnitude uncertainty and allow the program to attempt to correctly interpret the parameter as the data tag rather than the observation date\n",
    "\n",
    "**Data Tag Interpretation**\n",
    "\n",
    "The program expects the 12th parameter to be the date and the 13th parameter to be the data tag. If a user omits the date and does not use 'None' as a placeholder, the data tag becomes the 12th parameter. If the 12th parameter is an **integer with fewer than eight digits,** the program will assume that while the parameter was in the date position, the user intended it to be the data tag. **If your data tag is eight digits long, and you omit an observation date or placeholder, the program WILL NOT interpret the input properly and will instead assign the data tag to the date field.**"
   ]
  },
  {
   "cell_type": "code",
   "execution_count": 12,
   "id": "6ea9e17e-7b27-4156-a2f7-e5c5fcf5abfe",
   "metadata": {},
   "outputs": [
    {
     "data": {
      "text/plain": [
       "{'target': 7011,\n",
       " 'separation': 7.288,\n",
       " 'separation_uncertainty': 0.052,\n",
       " 'position_angle': 50.373,\n",
       " 'pa_uncertainty': 0.028,\n",
       " 'filter_name': 'H',\n",
       " 'filtercent': '',\n",
       " 'filterwidth': '',\n",
       " 'finterunits': '',\n",
       " 'delta_magnitude': 6.045,\n",
       " 'd_mag_uncertainty': 0.165,\n",
       " 'obsdate': '2025-06-26',\n",
       " 'tag': 1234567,\n",
       " 'group': 'tfopwg',\n",
       " 'prop_period': 0,\n",
       " 'primary_spt': 'G8V',\n",
       " 'companion_spt': 'M6V',\n",
       " 'teff': 5493.0,\n",
       " 'teff_uncertainty': 140.6}"
      ]
     },
     "execution_count": 12,
     "metadata": {},
     "output_type": "execute_result"
    }
   ],
   "source": [
    "## With observation date and data tag\n",
    "get_all(7011, 0.0254, 502, 505, 723, 688, \"H\", 14.072, 0.00328125, 20.117, 0.16519, \"2025-06-26\", 1234567)"
   ]
  },
  {
   "cell_type": "code",
   "execution_count": 13,
   "id": "2606d170-9eb4-49f6-bb3b-33297cbfcf01",
   "metadata": {},
   "outputs": [
    {
     "data": {
      "text/plain": [
       "{'target': 7011,\n",
       " 'separation': 7.288,\n",
       " 'separation_uncertainty': 0.052,\n",
       " 'position_angle': 50.373,\n",
       " 'pa_uncertainty': 0.028,\n",
       " 'filter_name': 'H',\n",
       " 'filtercent': '',\n",
       " 'filterwidth': '',\n",
       " 'finterunits': '',\n",
       " 'delta_magnitude': 6.045,\n",
       " 'd_mag_uncertainty': 0.165,\n",
       " 'obsdate': None,\n",
       " 'tag': None,\n",
       " 'group': 'tfopwg',\n",
       " 'prop_period': 0,\n",
       " 'primary_spt': 'G8V',\n",
       " 'companion_spt': 'M6V',\n",
       " 'teff': 5493.0,\n",
       " 'teff_uncertainty': 140.6}"
      ]
     },
     "execution_count": 13,
     "metadata": {},
     "output_type": "execute_result"
    }
   ],
   "source": [
    "## Neither neither observation date nor data tag\n",
    "get_all(7011, 0.0254, 502, 505, 723, 688, \"H\", 14.072, 0.00328125, 20.117, 0.16519)\n",
    "\n",
    "## Note that get_all(7011, 0.0254, 502, 505, 723, 688, \"H\", 14.072, 0.00328125, 20.117, 0.16519, None, None) is also acceptable and will result in the same output"
   ]
  },
  {
   "cell_type": "code",
   "execution_count": 14,
   "id": "c98ddf83-1bef-4f02-8e35-9ecb7e7f49c7",
   "metadata": {},
   "outputs": [
    {
     "data": {
      "text/plain": [
       "{'target': 7011,\n",
       " 'separation': 7.288,\n",
       " 'separation_uncertainty': 0.052,\n",
       " 'position_angle': 50.373,\n",
       " 'pa_uncertainty': 0.028,\n",
       " 'filter_name': 'H',\n",
       " 'filtercent': '',\n",
       " 'filterwidth': '',\n",
       " 'finterunits': '',\n",
       " 'delta_magnitude': 6.045,\n",
       " 'd_mag_uncertainty': 0.165,\n",
       " 'obsdate': '2025-06-26',\n",
       " 'tag': None,\n",
       " 'group': 'tfopwg',\n",
       " 'prop_period': 0,\n",
       " 'primary_spt': 'G8V',\n",
       " 'companion_spt': 'M6V',\n",
       " 'teff': 5493.0,\n",
       " 'teff_uncertainty': 140.6}"
      ]
     },
     "execution_count": 14,
     "metadata": {},
     "output_type": "execute_result"
    }
   ],
   "source": [
    "## With observation date and without data tag\n",
    "get_all(7011, 0.0254, 502, 505, 723, 688, \"H\", 14.072, 0.00328125, 20.117, 0.16519, \"2025-06-26\")\n",
    "\n",
    "## get_all(7011, 0.0254, 502, 505, 723, 688, \"H\", 14.072, 0.00328125, 20.117, 0.16519, \"2025-06-26\", None) is also acceptable"
   ]
  },
  {
   "cell_type": "code",
   "execution_count": 15,
   "id": "f13d2bdc-ff04-4410-95fb-237c897d39fd",
   "metadata": {},
   "outputs": [
    {
     "data": {
      "text/plain": [
       "{'target': 7011,\n",
       " 'separation': 7.288,\n",
       " 'separation_uncertainty': 0.052,\n",
       " 'position_angle': 50.373,\n",
       " 'pa_uncertainty': 0.028,\n",
       " 'filter_name': 'H',\n",
       " 'filtercent': '',\n",
       " 'filterwidth': '',\n",
       " 'finterunits': '',\n",
       " 'delta_magnitude': 6.045,\n",
       " 'd_mag_uncertainty': 0.165,\n",
       " 'obsdate': None,\n",
       " 'tag': 1234567,\n",
       " 'group': 'tfopwg',\n",
       " 'prop_period': 0,\n",
       " 'primary_spt': 'G8V',\n",
       " 'companion_spt': 'M6V',\n",
       " 'teff': 5493.0,\n",
       " 'teff_uncertainty': 140.6}"
      ]
     },
     "execution_count": 15,
     "metadata": {},
     "output_type": "execute_result"
    }
   ],
   "source": [
    "## Without observation date and with data tag, using None as placeholder\n",
    "get_all(7011, 0.0254, 502, 505, 723, 688, \"H\", 14.072, 0.00328125, 20.117, 0.16519, None, 1234567)"
   ]
  },
  {
   "cell_type": "code",
   "execution_count": 16,
   "id": "8966db07-9fad-4580-9824-86a52a4b6113",
   "metadata": {},
   "outputs": [
    {
     "name": "stdout",
     "output_type": "stream",
     "text": [
      "Interpreting 1234567 as data tag.\n"
     ]
    },
    {
     "data": {
      "text/plain": [
       "{'target': 7011,\n",
       " 'separation': 7.288,\n",
       " 'separation_uncertainty': 0.052,\n",
       " 'position_angle': 50.373,\n",
       " 'pa_uncertainty': 0.028,\n",
       " 'filter_name': 'H',\n",
       " 'filtercent': '',\n",
       " 'filterwidth': '',\n",
       " 'finterunits': '',\n",
       " 'delta_magnitude': 6.045,\n",
       " 'd_mag_uncertainty': 0.165,\n",
       " 'obsdate': None,\n",
       " 'tag': 1234567,\n",
       " 'group': 'tfopwg',\n",
       " 'prop_period': 0,\n",
       " 'primary_spt': 'G8V',\n",
       " 'companion_spt': 'M6V',\n",
       " 'teff': 5493.0,\n",
       " 'teff_uncertainty': 140.6}"
      ]
     },
     "execution_count": 16,
     "metadata": {},
     "output_type": "execute_result"
    }
   ],
   "source": [
    "## Without observation date and with data tag, where no placeholder is used and data tag is fewer than eight digits\n",
    "get_all(7011, 0.0254, 502, 505, 723, 688, \"H\", 14.072, 0.00328125, 20.117, 0.16519, 1234567)"
   ]
  },
  {
   "cell_type": "code",
   "execution_count": 17,
   "id": "13738935-d4fa-4de5-a215-c9d4576dbf81",
   "metadata": {},
   "outputs": [
    {
     "data": {
      "text/plain": [
       "{'target': 7011,\n",
       " 'separation': 7.288,\n",
       " 'separation_uncertainty': 0.052,\n",
       " 'position_angle': 50.373,\n",
       " 'pa_uncertainty': 0.028,\n",
       " 'filter_name': 'H',\n",
       " 'filtercent': '',\n",
       " 'filterwidth': '',\n",
       " 'finterunits': '',\n",
       " 'delta_magnitude': 6.045,\n",
       " 'd_mag_uncertainty': 0.165,\n",
       " 'obsdate': '1234-56-78',\n",
       " 'tag': None,\n",
       " 'group': 'tfopwg',\n",
       " 'prop_period': 0,\n",
       " 'primary_spt': 'G8V',\n",
       " 'companion_spt': 'M6V',\n",
       " 'teff': 5493.0,\n",
       " 'teff_uncertainty': 140.6}"
      ]
     },
     "execution_count": 17,
     "metadata": {},
     "output_type": "execute_result"
    }
   ],
   "source": [
    "## Without observation date and with data tag, where no placeholder is used and data tag is eight digits long\n",
    "get_all(7011, 0.0254, 502, 505, 723, 688, \"H\", 14.072, 0.00328125, 20.117, 0.16519, 12345678)"
   ]
  },
  {
   "cell_type": "markdown",
   "id": "2375f355-7833-451f-85d3-a67070f864ff",
   "metadata": {},
   "source": [
    "**COMBINED - FILE SET**\n",
    "\n",
    "To run the `combined` function on a file containing multiple sets of paramaters, call `all_file` with an input file paramater and output file parameter. The content of the input file should be contain the following values: ID number (TOI or TIC), pixel scale, primary x coordinate, primary y coordinate, companion x coordinate, companion y coordinate, filter name, primary magnitude, primary magnitude uncertainty, companion magnitude, companion magnitude uncertainty, observation date, data tag number. In your file, these values should be comma-delimited **without** spaces, and—unlike in the single set call—the filter and date should not be in quotes. If omit the date or data tag, leave the field blank, without a space between commas. Refer to the following example:\n",
    "\n",
    "```7011,0.0254,554.7,554.9,473.6,534.1,Hcont,12.3172,0.003281,20.117,0.16519,2019-01-25,442315```\n",
    "\n",
    "```7013,0.0254,602.3,498.7,552.6,468.4,Hcont,13.1145,0.004102,18.997,0.14268,,442300```\n",
    "\n",
    "The output will be bar-delimited and contain the following fields: ID number, separation, separation uncertainty, position angle, position angle uncertainty, filter name, filter central wavelength, filter width, filter units, delta magnitude, delta magnitude uncertainty, observation date, data tag, group name, proprietary period, notes. Here is an example line from the output file:\n",
    "\n",
    "```7011|2.127|0.015|255.615|0.097|Hcont||||7.8|0.165|2019-01-25|442315|tfopwg|0|Primary spectral type: G8V; companion spectral type: L1V```\n",
    "\n",
    "```7013|1.478|0.011|238.631|0.139|Hcont||||5.883|0.143||442300|tfopwg|0|Primary spectral type: G9V; companion spectral type: M6V```"
   ]
  },
  {
   "cell_type": "code",
   "execution_count": 18,
   "id": "b48e2184-0139-4271-b3fb-8ebabfc74b35",
   "metadata": {},
   "outputs": [],
   "source": [
    "all_file(\"combined_test.txt\", \"combined_test_output.txt\")"
   ]
  },
  {
   "cell_type": "code",
   "execution_count": 2,
   "id": "9a481376-1fb0-417e-9e49-856601a3cb85",
   "metadata": {},
   "outputs": [],
   "source": [
    "spectral_file(\"spectral_test.txt\", \"spectral_outputXX.txt\")"
   ]
  },
  {
   "cell_type": "code",
   "execution_count": 3,
   "id": "2cfca47e-5294-45ee-afdb-660239834161",
   "metadata": {},
   "outputs": [],
   "source": [
    "teff_file(\"teff_tags.txt\", \"test_tags_outputXX.txt\")"
   ]
  },
  {
   "cell_type": "code",
   "execution_count": null,
   "id": "9011b89c-253e-49dc-bbb0-3f07fe066c6a",
   "metadata": {},
   "outputs": [],
   "source": []
  }
 ],
 "metadata": {
  "kernelspec": {
   "display_name": "Python 3 (ipykernel)",
   "language": "python",
   "name": "python3"
  },
  "language_info": {
   "codemirror_mode": {
    "name": "ipython",
    "version": 3
   },
   "file_extension": ".py",
   "mimetype": "text/x-python",
   "name": "python",
   "nbconvert_exporter": "python",
   "pygments_lexer": "ipython3",
   "version": "3.12.4"
  },
  "widgets": {
   "application/vnd.jupyter.widget-state+json": {
    "state": {},
    "version_major": 2,
    "version_minor": 0
   }
  }
 },
 "nbformat": 4,
 "nbformat_minor": 5
}
