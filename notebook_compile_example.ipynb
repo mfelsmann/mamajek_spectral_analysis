{
 "cells": [
  {
   "cell_type": "markdown",
   "id": "d51e0e09-daae-4ed2-bd0d-8e74612310cf",
   "metadata": {},
   "source": [
    "This notebook is intended to provide an overview of the Mamajek Stellar Analysis Automation Tool. Below you will find descriptions, documentation, and examples of all capabilities of the program. The primary purpose of this program is to estimate spectral type using temperature and magnitude data, with Eric Mamajek's \"Stellar Color and Effective Temperature Sequence\" table acting as reference.\n",
    "\n",
    "The program can be run on one system at a time, using manual input (hereafter \"single set\"), or on a file containing a list of inputs (\"file set\").\n",
    "\n",
    "---\n",
    "\n",
    "The program is comprised of four individual data return modules, corresponding to four different categories of data—position, magnitude, temperature, and spectral type—and one combined module. \n",
    "\n",
    "The temperature, spectral type, and combined modules each have two scripts, one intended for use on single sets, the other for use on file sets.\n",
    "\n",
    "---\n",
    "\n",
    "Below are the necessary import statements."
   ]
  },
  {
   "cell_type": "code",
   "execution_count": 1,
   "id": "05851440-fd24-4c8c-af71-50d1489b414f",
   "metadata": {},
   "outputs": [],
   "source": [
    "from position import position\n",
    "from magnitude import magnitude\n",
    "from teff import get_teff\n",
    "from teff_file import teff_file\n",
    "from spectral import spectral_type\n",
    "from spectral_file import spectral_file\n",
    "from combined_single import get_all\n",
    "from combined_file import all_file"
   ]
  },
  {
   "cell_type": "markdown",
   "id": "5b00b53d-2689-4ec9-ac40-2e340a69b188",
   "metadata": {
    "jp-MarkdownHeadingCollapsed": true
   },
   "source": [
    "**POSITION**\n",
    "\n",
    "The `position` function takes the centroid positions of the primary and companion star, measured in pixels, and converts them to an angular separation and position angle. The function requires the additional input of a pixel scale and mirroring flag. Because the night sky uses a left-handed coordinate system, but some telescopes return right-handed imaging results, a multiplier of 1 (``keep\") or –1 (``mirror\") is needed to determine whether to reflect the pixel coordinates across the Y-axis in order to calculate the accurate position angle.\n",
    "\n",
    "For CLI use, run `python position.py --s pixscale --f flip p_x p_y c_x c_y`. The flagged pixel scale and flip parameters can go anywhere in the list of inputs, but the four position inputs must be in that order (although they may be interrupted by the pixel scale or flip).\n",
    "\n",
    "In a notebook interface, call the `position` function with six input parameters in this order: pixel scale, \"flip\", primary x coordinate, primary y coordinate, companion x coordinate, companion y coordinate."
   ]
  },
  {
   "cell_type": "code",
   "execution_count": 5,
   "id": "5f6e81dc-a0bd-4e12-80fb-91b304b012e3",
   "metadata": {},
   "outputs": [
    {
     "data": {
      "text/plain": [
       "{'separation': 1.141,\n",
       " 'separation_uncertainty': 0.008,\n",
       " 'position_angle': 27.307,\n",
       " 'pa_uncertainty': 0.18}"
      ]
     },
     "execution_count": 5,
     "metadata": {},
     "output_type": "execute_result"
    }
   ],
   "source": [
    "## These imaging results were from an instrument which returns images in a right-handed coordinate system\n",
    "## Coordinates must be reflected across Y-axis to return accurate position angle\n",
    "position(0.0254, \"mirror\", 657.6, 657.1, 678.2, 697)"
   ]
  },
  {
   "cell_type": "code",
   "execution_count": 6,
   "id": "19331ad2-b5c0-46bf-a967-773508a290bf",
   "metadata": {},
   "outputs": [
    {
     "data": {
      "text/plain": [
       "{'separation': 1.054,\n",
       " 'separation_uncertainty': 0.003,\n",
       " 'position_angle': 271.945,\n",
       " 'pa_uncertainty': 0.195}"
      ]
     },
     "execution_count": 6,
     "metadata": {},
     "output_type": "execute_result"
    }
   ],
   "source": [
    "## These imaging results were from an instrument which returns images in a left-handed coordinate system\n",
    "## No correction needed\n",
    "position(0.009942, \"keep\", 811.7, 811.3, 917.7, 814.9)"
   ]
  },
  {
   "cell_type": "markdown",
   "id": "c5e52c9c-d6a7-4edb-be23-9c85512b36a8",
   "metadata": {},
   "source": [
    "**MAGNITUDE**\n",
    "\n",
    "The `magnitude` function takes the magnitude and magnitude uncertainty of the primary and companion star and produces a magnitude difference.\n",
    "\n",
    "For CLI use, run `python magnitude.py p_mag p_mag_unc c_mag c_mag_unc`. The parameters must be entered in that order.\n",
    "\n",
    "In a notebook interface, call the `magnitude` function with four input parameters in this order: primary magnitude, primary magnitude uncertainty, companion magnitude, companion magnitude uncertainty."
   ]
  },
  {
   "cell_type": "code",
   "execution_count": 3,
   "id": "381c4607-6260-45d6-92cd-1f1bba1300d6",
   "metadata": {},
   "outputs": [
    {
     "data": {
      "text/plain": [
       "{'dmag': 4.119999999999999, 'd_mag': 4.12, 'dm_unc': 0.441}"
      ]
     },
     "execution_count": 3,
     "metadata": {},
     "output_type": "execute_result"
    }
   ],
   "source": [
    "magnitude(12.33, 0.028, 16.45, 0.44)"
   ]
  },
  {
   "cell_type": "markdown",
   "id": "486f6735-983f-45e6-b9fe-3e733287e278",
   "metadata": {},
   "source": [
    "**TEMPERATURE**\n",
    "\n",
    "The `teff` function uses the target ID to look up the temperature and temperature uncertainty of the primary star in the ExoFOP database.\n",
    "\n",
    "For CLI use, run `python teff.py id_num` for a single target and `python teff_file.py input_file.txt output_file.txt` for a file set.\n",
    "\n",
    "In a notebook interface, simply call the function `get_teff` using the stellar object ID number (either TOI or TIC). If calling on a file set, use `teff_file` and ensure that the file only contains one target ID number per line. Refer to the input file example below:\n",
    "\n",
    "```7011```\n",
    "\n",
    "```35883```\n",
    "\n",
    "```1234```\n",
    "\n",
    "The output file will contain two fields separated by a vertical bar: temperature and temperatur uncertainty. Below are example lines from the output file:\n",
    "\n",
    "```5493.0|140.6```\n",
    "\n",
    "```ERROR on line 2: No matching target entry found in database```\n",
    "\n",
    "```3443.0|157.0```"
   ]
  },
  {
   "cell_type": "code",
   "execution_count": 4,
   "id": "6ec1dac9-5f9c-4c47-8dc4-9c44a93756a1",
   "metadata": {},
   "outputs": [
    {
     "data": {
      "text/plain": [
       "{'teff': 6688.0, 'unc': 137.9}"
      ]
     },
     "execution_count": 4,
     "metadata": {},
     "output_type": "execute_result"
    }
   ],
   "source": [
    "## Using TOI\n",
    "get_teff(3588)"
   ]
  },
  {
   "cell_type": "code",
   "execution_count": 5,
   "id": "7782fa27-ddb0-4dd7-92bb-900bff17d8eb",
   "metadata": {},
   "outputs": [
    {
     "data": {
      "text/plain": [
       "{'teff': 8552.3, 'unc': 193.7}"
      ]
     },
     "execution_count": 5,
     "metadata": {},
     "output_type": "execute_result"
    }
   ],
   "source": [
    "## Using TIC\n",
    "get_teff(128558444)"
   ]
  },
  {
   "cell_type": "code",
   "execution_count": 6,
   "id": "6a4a8267-4360-4e78-b728-b07635f7ae94",
   "metadata": {},
   "outputs": [],
   "source": [
    "## On a file\n",
    "teff_file(\"teff_example.txt\", \"teff_example_output.txt\")"
   ]
  },
  {
   "cell_type": "markdown",
   "id": "614b5244-391c-4ecc-8146-18019fd8d96f",
   "metadata": {},
   "source": [
    "**SPECTRAL TYPE**\n",
    "\n",
    "The `spectral_type` function retrieves the spectral types and approximate magnitudes of the primary and companion star based on the primary temperature and the magnitude difference.\n",
    "\n",
    "For CLI use, run `python spectral.py teff teff_unc filter d_mag d_mag_unc` for a single target or `python spectral_file.py input_file.txt output_file.txt` for a file set.\n",
    "\n",
    "In a notebook interface, call `spectral_type` on a single set with the following five input parameters: effective temperature, temperature uncertainty, \"filter name\", delta magnitude, delta magnitude uncertainty. For a file set, call `spectral_file(\"input_file.txt\", \"output_file.txt\")`. \n",
    "\n",
    "In both CLI and notebook scenarios, the format of the input file is the same: the five parameters should be comma-delimited **without** spaces and the filter should not be in quotes. Refer to the following example of lines in the input file:\n",
    "\n",
    "\n",
    "```6280,122,K,7.031,0.00722```\n",
    "\n",
    "```6688,137.9,X,4.438,0.022```\n",
    "\n",
    "The output will be bar-delimited and contain the following fields: primary spectral type, lower bound of the primary spectral type, upper bound of the primary spectral type, primary magnitude, lower bound of the primary magnitude, upper bound of the primary magnitude, companion spectral type, lower bound of the companion spectral type, upper bound of the companion spectral type, primary companion, lower bound of the companion magnitude, upper bound of the primary companion. Here are example lines from the output file:\n",
    "\n",
    "```F7V|F8V|F6V|2.579|2.76|2.5|M7V|M7.5V|M6.5V|9.7|9.81|9.5```\n",
    "\n",
    "```ERROR on line 2: Attempted to reference unsupported magnitude 'X' - could not run analysis```\n",
    "\n",
    "\n",
    "**Filters**\n",
    "\n",
    "Supported filters: G, J, K, H, V, Rp, W1, W2, W3, W4, U, Ic, Rc, Bp, B\n",
    "\n",
    "Attempting to run this function using an unsupported filter will return 'ERROR: attempted to reference unsupported magnitude - could not run analysis'.\n",
    "\n",
    "In the K-band, the function supports input of the following filter names: \"K\", \"Ks\", \"Kcont\", and \"Brgamma\". These will be referenced against the Ks column in the Mamajek table.\n",
    "In the H-band, the function supports input of the following filter names: \"H\" and \"Hcont\". These will be referenced against the H column in the Mamajek table.\n",
    "\n",
    "In the examples below, note that the companion spectral type is the same for \"K\" and \"Brgamma,\" but different for \"H.\" \n",
    "\n",
    "**Variable Input**\n",
    "\n",
    "Also note that the output of the `teff` and `magnitude` functions can be used as input parameters for the `spectral_type` function. Simply assign the output of either function to a variable and then use that variable in place of a temperature or magnitude value. **This will only work in the notebook interface.**"
   ]
  },
  {
   "cell_type": "code",
   "execution_count": 7,
   "id": "e691f5bf-953a-4279-a7b2-8d48e9c9729e",
   "metadata": {},
   "outputs": [],
   "source": [
    "## File set\n",
    "spectral_file(\"spectral_example.txt\", \"spectral_example_output.txt\")"
   ]
  },
  {
   "cell_type": "code",
   "execution_count": 8,
   "id": "87288c0d-60be-4ba8-b5e9-6607d347a715",
   "metadata": {},
   "outputs": [
    {
     "ename": "ValueError",
     "evalue": "Attempted to reference unsupported magnitude 'X' - could not run analysis",
     "output_type": "error",
     "traceback": [
      "\u001b[0;31m---------------------------------------------------------------------------\u001b[0m",
      "\u001b[0;31mValueError\u001b[0m                                Traceback (most recent call last)",
      "Cell \u001b[0;32mIn[8], line 2\u001b[0m\n\u001b[1;32m      1\u001b[0m \u001b[38;5;66;03m## Single set, using invalid filter\u001b[39;00m\n\u001b[0;32m----> 2\u001b[0m spectral_type(\u001b[38;5;241m6688\u001b[39m, \u001b[38;5;241m137.9\u001b[39m, \u001b[38;5;124m\"\u001b[39m\u001b[38;5;124mX\u001b[39m\u001b[38;5;124m\"\u001b[39m, \u001b[38;5;241m4.12\u001b[39m, \u001b[38;5;241m0.441\u001b[39m)\n",
      "File \u001b[0;32m~/Desktop/Westridge/12th/research/FINAL/PUBLIC RELEASE/spectral.py:32\u001b[0m, in \u001b[0;36mspectral_type\u001b[0;34m(teff, teff_unc, filter, d_mag, dm_unc, mamajek_df, path)\u001b[0m\n\u001b[1;32m     28\u001b[0m     filter_output \u001b[38;5;241m=\u001b[39m \u001b[38;5;124mf\u001b[39m\u001b[38;5;124m\"\u001b[39m\u001b[38;5;124mM_\u001b[39m\u001b[38;5;132;01m{\u001b[39;00m\u001b[38;5;28mfilter\u001b[39m\u001b[38;5;132;01m}\u001b[39;00m\u001b[38;5;124m\"\u001b[39m\n\u001b[1;32m     30\u001b[0m \u001b[38;5;28;01mif\u001b[39;00m filter_output \u001b[38;5;129;01mnot\u001b[39;00m \u001b[38;5;129;01min\u001b[39;00m mamajek_df\u001b[38;5;241m.\u001b[39mcolumns:\n\u001b[1;32m     31\u001b[0m     \u001b[38;5;66;03m# return f\"ERROR: attempted to reference unsupported magnitude '{filter}' - could not run analysis\"\u001b[39;00m\n\u001b[0;32m---> 32\u001b[0m     \u001b[38;5;28;01mraise\u001b[39;00m \u001b[38;5;167;01mValueError\u001b[39;00m(\u001b[38;5;124mf\u001b[39m\u001b[38;5;124m\"\u001b[39m\u001b[38;5;124mAttempted to reference unsupported magnitude \u001b[39m\u001b[38;5;124m'\u001b[39m\u001b[38;5;132;01m{\u001b[39;00m\u001b[38;5;28mfilter\u001b[39m\u001b[38;5;132;01m}\u001b[39;00m\u001b[38;5;124m'\u001b[39m\u001b[38;5;124m - could not run analysis\u001b[39m\u001b[38;5;124m\"\u001b[39m)\n\u001b[1;32m     35\u001b[0m primary_spt \u001b[38;5;241m=\u001b[39m mamajek_df\u001b[38;5;241m.\u001b[39mloc[teff_index, \u001b[38;5;124m'\u001b[39m\u001b[38;5;124mSpT\u001b[39m\u001b[38;5;124m'\u001b[39m]\n\u001b[1;32m     36\u001b[0m primary_spt_lower \u001b[38;5;241m=\u001b[39m mamajek_df\u001b[38;5;241m.\u001b[39mloc[lower_teff_index, \u001b[38;5;124m'\u001b[39m\u001b[38;5;124mSpT\u001b[39m\u001b[38;5;124m'\u001b[39m]\n",
      "\u001b[0;31mValueError\u001b[0m: Attempted to reference unsupported magnitude 'X' - could not run analysis"
     ]
    }
   ],
   "source": [
    "## Single set, using invalid filter\n",
    "spectral_type(6688, 137.9, \"X\", 4.12, 0.441)"
   ]
  },
  {
   "cell_type": "code",
   "execution_count": null,
   "id": "07966abf-64f6-4898-9bd1-e019d636eb24",
   "metadata": {},
   "outputs": [],
   "source": [
    "## Single set, using valid K filter\n",
    "spectral_type(6280, 122, \"K\", 7.031, 0.00722)"
   ]
  },
  {
   "cell_type": "code",
   "execution_count": null,
   "id": "b34dcbd8-1e7f-46bc-b171-57e93eaf1405",
   "metadata": {},
   "outputs": [],
   "source": [
    "## Single set, using valid Brgamma filter - note that output is identical to cell above\n",
    "spectral_type(6280, 122, \"Brgamma\", 7.031, 0.00722)"
   ]
  },
  {
   "cell_type": "code",
   "execution_count": null,
   "id": "0ee0a97a-f166-45ef-8f80-15d266408b5c",
   "metadata": {},
   "outputs": [],
   "source": [
    "## Single set, using valid H filter - note that output differs from K-band output\n",
    "spectral_type(6280, 122, \"H\", 7.031, 0.00722)"
   ]
  },
  {
   "cell_type": "code",
   "execution_count": 9,
   "id": "949a93c4-5f4a-4f16-b0c2-4bd93b0d6966",
   "metadata": {},
   "outputs": [
    {
     "data": {
      "text/plain": [
       "{'primary_spt': 'F4V',\n",
       " 'primary_spt_lower': 'F5V',\n",
       " 'primary_spt_upper': 'F2V',\n",
       " 'comp_spt': 'M2.5V',\n",
       " 'comp_spt_lower': 'M2V',\n",
       " 'comp_spt_upper': 'M3V',\n",
       " 'primary_mag': 2.188,\n",
       " 'primary_mag_lower': 2.291,\n",
       " 'primary_mag_upper': 2.045,\n",
       " 'comp_mag': 6.18,\n",
       " 'comp_mag_lower': 5.98,\n",
       " 'comp_mag_upper': 6.55}"
      ]
     },
     "execution_count": 9,
     "metadata": {},
     "output_type": "execute_result"
    }
   ],
   "source": [
    "## Single set, using the output of magnitude and temperature functions as inputs for spectral_tye\n",
    "mag = magnitude(12.33, 0.028, 16.45, 0.44)\n",
    "temp = get_teff(3588)\n",
    "spectral_type(temp['teff'], temp['unc'], \"K\", mag['d_mag'], mag['dm_unc'])"
   ]
  },
  {
   "cell_type": "markdown",
   "id": "04f8dbd4-2dac-4454-bd37-398c76d64c06",
   "metadata": {},
   "source": [
    "**COMBINED - SINGLE SET**\n",
    "\n",
    "To run the `combined` function on a single set of parameters, call `get_all` with the following 12 parameters: ID number (TOI or TIC), pixel scale, \"mirroring flag\", primary x coordinate, primary y coordinate, companion x coordinate, companion y coordinate, \"filter name\", primary magnitude, primary magnitude uncertainty, companion magnitude, companion magnitude uncertainty.\n",
    "\n",
    "For CLI use, omit the commas between parameters as well as the quotes around the mirroring flag and filter: `python combined_single.py id_num pixscale mirror_flag p_x p_y c_x c_y filter_name p_mag p_mag_unc c_mag c_mag_unc`."
   ]
  },
  {
   "cell_type": "code",
   "execution_count": 7,
   "id": "6ea9e17e-7b27-4156-a2f7-e5c5fcf5abfe",
   "metadata": {},
   "outputs": [
    {
     "data": {
      "text/plain": [
       "{'target': 7011,\n",
       " 'separation': 7.288,\n",
       " 'separation_uncertainty': 0.052,\n",
       " 'position_angle': 50.373,\n",
       " 'pa_uncertainty': 0.028,\n",
       " 'filter_name': 'H',\n",
       " 'delta_magnitude': 6.045,\n",
       " 'd_mag_uncertainty': 0.165,\n",
       " 'primary_spt': 'G8V',\n",
       " 'companion_spt': 'M6V'}"
      ]
     },
     "execution_count": 7,
     "metadata": {},
     "output_type": "execute_result"
    }
   ],
   "source": [
    "## With mirroring requested\n",
    "get_all(7011, 0.0254, \"mirror\", 502, 505, 723, 688, \"H\", 14.072, 0.00328125, 20.117, 0.16519)"
   ]
  },
  {
   "cell_type": "code",
   "execution_count": 8,
   "id": "2606d170-9eb4-49f6-bb3b-33297cbfcf01",
   "metadata": {},
   "outputs": [
    {
     "data": {
      "text/plain": [
       "{'target': 7011,\n",
       " 'separation': 7.288,\n",
       " 'separation_uncertainty': 0.052,\n",
       " 'position_angle': 309.627,\n",
       " 'pa_uncertainty': 0.028,\n",
       " 'filter_name': 'H',\n",
       " 'delta_magnitude': 6.045,\n",
       " 'd_mag_uncertainty': 0.165,\n",
       " 'primary_spt': 'G8V',\n",
       " 'companion_spt': 'M6V'}"
      ]
     },
     "execution_count": 8,
     "metadata": {},
     "output_type": "execute_result"
    }
   ],
   "source": [
    "## Without mirroring requested\n",
    "get_all(7011, 0.0254, \"keep\", 502, 505, 723, 688, \"H\", 14.072, 0.00328125, 20.117, 0.16519)"
   ]
  },
  {
   "cell_type": "markdown",
   "id": "2375f355-7833-451f-85d3-a67070f864ff",
   "metadata": {},
   "source": [
    "**COMBINED - FILE SET**\n",
    "\n",
    "To run the `combined` function on a file containing multiple sets of paramaters, call `all_file` with an input file paramater and output file parameter. The content of the input file should be contain the following values: ID number (TOI or TIC), pixel scale, mirroring flag, primary x coordinate, primary y coordinate, companion x coordinate, companion y coordinate, filter name, primary magnitude, primary magnitude uncertainty, companion magnitude, companion magnitude uncertainty. In your file, these values should be comma-delimited **without** spaces, and—unlike in the single set call—the mirror flag and filter should not be in quotes. Refer to the following example:\n",
    "\n",
    "```7011,0.0254,mirror,554.7,554.9,473.6,534.1,Hcont,12.3172,0.003281,20.117,0.16519```\n",
    "\n",
    "```7013,0.0254,keep,602.3,498.7,552.6,468.4,Hcont,13.1145,0.004102,18.997,0.14268```\n",
    "\n",
    "The output will be bar-delimited and contain the following fields: ID number, separation, separation uncertainty, position angle, position angle uncertainty, filter name, delta magnitude, delta magnitude uncertainty, primary spectral type, companion spectral type. Here is an example line from the output file:\n",
    "\n",
    "```7011|2.127|0.015|255.615|0.097|Hcont|7.8|0.165|G8V|L1V```\n",
    "\n",
    "```7013|1.478|0.011|121.369|0.139|Hcont|5.883|0.143|G9V|M6V```"
   ]
  },
  {
   "cell_type": "code",
   "execution_count": 4,
   "id": "b48e2184-0139-4271-b3fb-8ebabfc74b35",
   "metadata": {},
   "outputs": [],
   "source": [
    "## Example showing mirrored results, unmirrored results, unsupported filter error, and no matching target error\n",
    "\n",
    "all_file(\"combined_example.txt\", \"combined_example_output.txt\")"
   ]
  },
  {
   "cell_type": "code",
   "execution_count": null,
   "id": "70e1322a-bc39-44e4-80af-40c7b3092c41",
   "metadata": {},
   "outputs": [],
   "source": []
  }
 ],
 "metadata": {
  "kernelspec": {
   "display_name": "Python 3 (ipykernel)",
   "language": "python",
   "name": "python3"
  },
  "language_info": {
   "codemirror_mode": {
    "name": "ipython",
    "version": 3
   },
   "file_extension": ".py",
   "mimetype": "text/x-python",
   "name": "python",
   "nbconvert_exporter": "python",
   "pygments_lexer": "ipython3",
   "version": "3.12.4"
  },
  "widgets": {
   "application/vnd.jupyter.widget-state+json": {
    "state": {},
    "version_major": 2,
    "version_minor": 0
   }
  }
 },
 "nbformat": 4,
 "nbformat_minor": 5
}
